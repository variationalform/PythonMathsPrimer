{
 "cells": [
  {
   "cell_type": "markdown",
   "metadata": {
    "slideshow": {
     "slide_type": "slide"
    }
   },
   "source": [
    "# An Introduction to Python for Mathematics\n",
    "\n",
    "## a crash course\n",
    "\n",
    "*Simon Shaw*\n",
    "\n",
    "<https://www.brunel.ac.uk/people/simon-shaw>.\n",
    "\n",
    "Summer 2024"
   ]
  },
  {
   "cell_type": "markdown",
   "metadata": {
    "slideshow": {
     "slide_type": "slide"
    }
   },
   "source": [
    "<table>\n",
    "<tr>\n",
    "<td>\n",
    "<img src=\"https://mirrors.creativecommons.org/presskit/icons/cc.svg?ref=chooser-v1\" style=\"height:18px\"/>\n",
    "<img src=\"https://mirrors.creativecommons.org/presskit/icons/by.svg?ref=chooser-v1\" style=\"height:18px\"/>\n",
    "<img src=\"https://mirrors.creativecommons.org/presskit/icons/sa.svg?ref=chooser-v1\" style=\"height:18px\"/>\n",
    "</td>\n",
    "<td>\n",
    "\n",
    "<p>\n",
    "This work is licensed under CC BY-SA 4.0 (Attribution-ShareAlike 4.0 International)\n",
    "\n",
    "<p>\n",
    "Visit <a href=\"http://creativecommons.org/licenses/by-sa/4.0/\">http://creativecommons.org/licenses/by-sa/4.0/</a> to see the terms.\n",
    "</td>\n",
    "</tr>\n",
    "</table>"
   ]
  },
  {
   "cell_type": "markdown",
   "metadata": {
    "slideshow": {
     "slide_type": "subslide"
    }
   },
   "source": [
    "<table>\n",
    "<tr>\n",
    "<td>This document uses python</td>\n",
    "<td>\n",
    "<img src=\"https://www.python.org/static/community_logos/python-logo-master-v3-TM.png\" style=\"height:30px\"/>\n",
    "</td>\n",
    "<td>and also makes use of LaTeX </td>\n",
    "<td>\n",
    "<img src=\"https://upload.wikimedia.org/wikipedia/commons/thumb/9/92/LaTeX_logo.svg/320px-LaTeX_logo.svg.png\" style=\"height:30px\"/>\n",
    "</td>\n",
    "<td>in Markdown</td> \n",
    "<td>\n",
    "<img src=\"https://github.com/adam-p/markdown-here/raw/master/src/common/images/icon48.png\" style=\"height:30px\"/>\n",
    "</td>\n",
    "</tr>\n",
    "</table>"
   ]
  },
  {
   "cell_type": "markdown",
   "metadata": {
    "slideshow": {
     "slide_type": "slide"
    }
   },
   "source": [
    "## Contents\n",
    "\n",
    "This is a very quick run through of how to use some basic features of python in a Jupyter\n",
    "notebook. We'll cover:\n",
    "\n",
    "1. markdown\n",
    "1. linear algebra\n",
    "1. plotting\n",
    "1. prob/stat simulations\n",
    "\n",
    "There is a lot we don't touch..."
   ]
  },
  {
   "cell_type": "markdown",
   "metadata": {
    "slideshow": {
     "slide_type": "slide"
    }
   },
   "source": [
    "## Markdown\n",
    "\n",
    "First note this cell - it is a **markdown** cell, not a 'code' cell. This allows for\n",
    "*literate programming*: we can explain our algorithm with bullets, \n",
    "\n",
    "- step 1\n",
    "- step 2\n",
    "  - substep 2.1\n",
    "- step 3\n",
    "\n",
    "or with enumeration,\n",
    "\n",
    "1. step 1\n",
    "1. step 2\n",
    "  1. substep 2.1\n",
    "1. step 3\n",
    "\n",
    "We can type maths in LaTeX, like this: find $\\boldsymbol{u}\\in V$ such that\n",
    "\n",
    "$$\n",
    "a(\\boldsymbol{u},\\boldsymbol{v}) = \\langle \\daleth, \\boldsymbol{v}\\rangle\n",
    "\\qquad\\forall \\boldsymbol{v} \\in V.\n",
    "$$\n",
    "\n",
    "There is equation numbering, BiBTeX, graphics etc. though... "
   ]
  },
  {
   "cell_type": "markdown",
   "metadata": {
    "slideshow": {
     "slide_type": "slide"
    }
   },
   "source": [
    "## Leontief Input-Output Models\n",
    "\n",
    "We have \n",
    "$\\boldsymbol{x} = \\boldsymbol{A}\\boldsymbol{x}+\\boldsymbol{d}$ or, alternatively, \n",
    "$(\\boldsymbol{I} - \\boldsymbol{A})\\boldsymbol{x} = \\boldsymbol{d}$\n",
    "\n",
    "First some simple arithmetic as a warm up..."
   ]
  },
  {
   "cell_type": "code",
   "execution_count": 1,
   "metadata": {
    "slideshow": {
     "slide_type": "subslide"
    }
   },
   "outputs": [
    {
     "data": {
      "text/plain": [
       "25000.0"
      ]
     },
     "execution_count": 1,
     "metadata": {},
     "output_type": "execute_result"
    }
   ],
   "source": [
    "0.9*50000 - 0.5*40000"
   ]
  },
  {
   "cell_type": "code",
   "execution_count": 2,
   "metadata": {
    "slideshow": {
     "slide_type": "subslide"
    }
   },
   "outputs": [
    {
     "data": {
      "text/plain": [
       "17000.0"
      ]
     },
     "execution_count": 2,
     "metadata": {},
     "output_type": "execute_result"
    }
   ],
   "source": [
    "-0.3*50000 + 0.8*40000"
   ]
  },
  {
   "cell_type": "code",
   "execution_count": 3,
   "metadata": {
    "slideshow": {
     "slide_type": "subslide"
    }
   },
   "outputs": [
    {
     "name": "stdout",
     "output_type": "stream",
     "text": [
      "25000.0 17000.0\n"
     ]
    }
   ],
   "source": [
    "print(0.9*50000 - 0.5*40000, -0.3*50000 + 0.8*40000)"
   ]
  },
  {
   "cell_type": "markdown",
   "metadata": {
    "slideshow": {
     "slide_type": "slide"
    }
   },
   "source": [
    "Note that\n",
    "$$\n",
    "\\boldsymbol{A} = {0.1\\ 0.5\\choose 0.3\\ 0.2}\n",
    "\\Longrightarrow\n",
    "\\boldsymbol{I}-\\boldsymbol{A}\n",
    "= {1\\ 0\\choose 0\\ 1}-{0.1\\ 0.5\\choose 0.3\\ 0.2} = {\\phantom{-}0.9\\ \\ -0.5\\choose -0.3\\ \\ \\phantom{-}0.8}\n",
    "$$\n",
    "and therefore\n",
    "$$\n",
    "(\\boldsymbol{I}-\\boldsymbol{A})^{-1} = \\frac{1}{(0.9)(0.8) - (0.5)(0.3)}\n",
    "{0.8\\ \\ 0.5\\choose 0.3\\ \\ 0.9}\n",
    "=\\frac{10}{57}{8\\ \\ 5 \\choose 3\\ \\ 9}\n",
    "$$"
   ]
  },
  {
   "cell_type": "code",
   "execution_count": 4,
   "metadata": {
    "slideshow": {
     "slide_type": "subslide"
    }
   },
   "outputs": [
    {
     "name": "stdout",
     "output_type": "stream",
     "text": [
      "74561.40350877192 64210.52631578947\n"
     ]
    }
   ],
   "source": [
    "d1=35000; d2=29000; print(10/57*(8*d1 + 5*d2), 10/57*(3*d1 + 9*d2))"
   ]
  },
  {
   "cell_type": "code",
   "execution_count": 5,
   "metadata": {
    "slideshow": {
     "slide_type": "subslide"
    }
   },
   "outputs": [
    {
     "name": "stdout",
     "output_type": "stream",
     "text": [
      "5175.438596491228 4315.78947368421\n"
     ]
    }
   ],
   "source": [
    "d1=2500; d2=1900; print(10/57*(8*d1 + 5*d2), 10/57*(3*d1 + 9*d2))"
   ]
  },
  {
   "cell_type": "markdown",
   "metadata": {
    "slideshow": {
     "slide_type": "slide"
    }
   },
   "source": [
    "Let's introduce `numpy` - for arrays, linear algebra, ... "
   ]
  },
  {
   "cell_type": "code",
   "execution_count": 6,
   "metadata": {
    "slideshow": {
     "slide_type": "subslide"
    }
   },
   "outputs": [
    {
     "name": "stdout",
     "output_type": "stream",
     "text": [
      "[[ 0.9 -0.5]\n",
      " [-0.3  0.8]]\n",
      "[[8. 5.]\n",
      " [3. 9.]]\n",
      "[[74561.40350877]\n",
      " [64210.52631579]]\n",
      "[[5175.43859649]\n",
      " [4315.78947368]]\n"
     ]
    }
   ],
   "source": [
    "import numpy as np\n",
    "A = np.array([[0.1, 0.5],[0.3, 0.2]])\n",
    "# use shift tab\n",
    "Id = np.eye(2)\n",
    "print(Id-A)\n",
    "print(5.7*np.linalg.inv(Id-A))\n",
    "d = np.array([[35000],[29000]])\n",
    "print(np.linalg.solve(Id-A, d))\n",
    "Dd = np.array([[2500],[1900]])\n",
    "print(np.linalg.solve(Id-A, Dd))"
   ]
  },
  {
   "cell_type": "code",
   "execution_count": 7,
   "metadata": {
    "slideshow": {
     "slide_type": "slide"
    }
   },
   "outputs": [
    {
     "name": "stdout",
     "output_type": "stream",
     "text": [
      "This is the technical matrix: A = \n",
      "[[0.15 0.12 0.05 0.03]\n",
      " [0.17 0.16 0.04 0.04]\n",
      " [0.03 0.08 0.18 0.22]\n",
      " [0.07 0.18 0.03 0.19]]\n",
      "Here are the total output levels: x = \n",
      "[[89000]\n",
      " [55000]\n",
      " [47000]\n",
      " [76000]]\n",
      "This is the Leontiev matrix: I-A = \n",
      "[[ 0.85 -0.12 -0.05 -0.03]\n",
      " [-0.17  0.84 -0.04 -0.04]\n",
      " [-0.03 -0.08  0.82 -0.22]\n",
      " [-0.07 -0.18 -0.03  0.81]]\n",
      "The amounts available for external demand are: d = \n",
      "[[64420.]\n",
      " [26150.]\n",
      " [14750.]\n",
      " [44020.]]\n",
      "The required total output is: x = \n",
      "[[76985.04648009]\n",
      " [49721.31303541]\n",
      " [48094.90788649]\n",
      " [68866.21831676]]\n",
      "The change in external demand: Dd = \n",
      "[[-5000]\n",
      " [  350]\n",
      " [ 2300]\n",
      " [ -500]]\n",
      "[[-5899.0465539 ]\n",
      " [ -730.25568572]\n",
      " [ 2193.68789267]\n",
      " [-1208.10943879]]\n"
     ]
    }
   ],
   "source": [
    "print('This is the technical matrix: A = ')\n",
    "A = np.array([[0.15, 0.12, 0.05, 0.03],\n",
    "              [0.17, 0.16, 0.04, 0.04],\n",
    "              [0.03, 0.08, 0.18, 0.22],\n",
    "              [0.07, 0.18, 0.03, 0.19]])\n",
    "print(A)\n",
    "print('Here are the total output levels: x = ')\n",
    "x = np.array([[89000], [55000], [47000], [76000]])\n",
    "print(x)\n",
    "print('This is the Leontiev matrix: I-A = ')\n",
    "Id = np.eye(4)\n",
    "print(Id-A)\n",
    "print('The amounts available for external demand are: d = ')\n",
    "print((Id-A).dot(x))\n",
    "print('The required total output is: x = ')\n",
    "d = np.array([[55000],[24000],[18000],[40000]])\n",
    "print(np.linalg.solve(Id-A, d))\n",
    "print('The change in external demand: Dd = ')\n",
    "Dd = np.array([[-5000], [350], [2300],[-500]])\n",
    "print(Dd)\n",
    "print(np.linalg.solve(Id-A, Dd))\n"
   ]
  },
  {
   "cell_type": "code",
   "execution_count": 8,
   "metadata": {},
   "outputs": [
    {
     "name": "stdout",
     "output_type": "stream",
     "text": [
      "[0.42116703+0.j         0.00461882+0.j         0.12710707+0.07455003j\n",
      " 0.12710707-0.07455003j]\n",
      "[[-0.36169836+0.j         -0.53830234+0.j         -0.08583289-0.15883797j\n",
      "  -0.08583289+0.15883797j]\n",
      " [-0.41503348+0.j          0.60726175+0.j         -0.2194297 -0.11271916j\n",
      "  -0.2194297 +0.11271916j]\n",
      " [-0.65491995+0.j          0.37609264+0.j          0.87392682+0.j\n",
      "   0.87392682-0.j        ]\n",
      " [-0.51768849+0.j         -0.44723381+0.j         -0.11861447+0.35879066j\n",
      "  -0.11861447-0.35879066j]]\n",
      "D = \n",
      " [[0.42116703+0.j         0.        +0.j         0.        +0.j\n",
      "  0.        +0.j        ]\n",
      " [0.        +0.j         0.00461882+0.j         0.        +0.j\n",
      "  0.        +0.j        ]\n",
      " [0.        +0.j         0.        +0.j         0.12710707+0.07455003j\n",
      "  0.        +0.j        ]\n",
      " [0.        +0.j         0.        +0.j         0.        +0.j\n",
      "  0.12710707-0.07455003j]]\n",
      "[[-1.94289029e-16+0.00000000e+00j  2.60208521e-18+0.00000000e+00j\n",
      "   5.52943108e-17+4.16333634e-17j  5.52943108e-17-4.16333634e-17j]\n",
      " [-1.38777878e-16+0.00000000e+00j -2.60208521e-18+0.00000000e+00j\n",
      "   3.12250226e-17+1.73472348e-17j  3.12250226e-17-1.73472348e-17j]\n",
      " [-2.77555756e-16+0.00000000e+00j -2.62376926e-17+0.00000000e+00j\n",
      "  -5.55111512e-17-1.38777878e-17j -5.55111512e-17+1.38777878e-17j]\n",
      " [-2.22044605e-16+0.00000000e+00j -2.99239800e-17+0.00000000e+00j\n",
      "  -3.46944695e-17-2.08166817e-17j -3.46944695e-17+2.08166817e-17j]]\n",
      "4.548644071527765e-16\n"
     ]
    }
   ],
   "source": [
    "w, V = np.linalg.eig(A)\n",
    "print(w)\n",
    "print(V)\n",
    "D=np.diag(w)\n",
    "print('D = \\n', D)\n",
    "print(A@V - V@D)\n",
    "print(np.linalg.norm(A@V - V@D))"
   ]
  },
  {
   "cell_type": "code",
   "execution_count": 9,
   "metadata": {},
   "outputs": [
    {
     "name": "stdout",
     "output_type": "stream",
     "text": [
      "[[-0.06213744  0.9980676 ]\n",
      " [ 0.9980676   0.06213744]]\n",
      "[7.88191065 5.4658471 ]\n",
      "[[ 0.62525456 -0.77553283  0.08720987]\n",
      " [ 0.23944227  0.29699158  0.9243719 ]\n",
      " [-0.74278135 -0.55708601  0.37139068]]\n",
      "[[7.88191065 0.         0.        ]\n",
      " [0.         5.4658471  0.        ]]\n",
      "[[-4.44089210e-16 -4.44089210e-16 -1.77635684e-15]\n",
      " [-8.88178420e-16  1.77635684e-15  1.11022302e-16]]\n",
      "2.739800093299453e-15\n"
     ]
    }
   ],
   "source": [
    "K = np.array([[1,2,5],[5,-6,1]])   \n",
    "U, S, VT = np.linalg.svd(K)\n",
    "print(U)\n",
    "print(S)\n",
    "print(VT)\n",
    "\n",
    "S = np.hstack(( np.diag(S), np.zeros((2,1)) ))\n",
    "\n",
    "print(S)\n",
    "\n",
    "print(K - U @ S @ VT)\n",
    "print(np.linalg.norm(K - U @ S @ VT))"
   ]
  },
  {
   "cell_type": "markdown",
   "metadata": {
    "slideshow": {
     "slide_type": "slide"
    }
   },
   "source": [
    "## Plotting in 2D\n",
    "\n",
    "We introduce `matplotlib`. There are others but this seems to be the most common.\n",
    "\n",
    "Here is a simple example"
   ]
  },
  {
   "cell_type": "code",
   "execution_count": 10,
   "metadata": {
    "slideshow": {
     "slide_type": "slide"
    }
   },
   "outputs": [
    {
     "name": "stderr",
     "output_type": "stream",
     "text": [
      "The PostScript backend does not support transparency; partially transparent artists will be rendered opaque.\n",
      "The PostScript backend does not support transparency; partially transparent artists will be rendered opaque.\n"
     ]
    },
    {
     "data": {
      "image/png": "[encoded data removed]",
      "text/plain": [
       "<Figure size 432x288 with 1 Axes>"
      ]
     },
     "metadata": {
      "needs_background": "light"
     },
     "output_type": "display_data"
    }
   ],
   "source": [
    "import matplotlib.pyplot as plt\n",
    "import numpy as np\n",
    "x = np.arange(-1,5,0.01)\n",
    "y1, y2 = np.cos(2*np.pi*x), np.exp(np.sin(4*np.pi*x))\n",
    "plt.plot(x,y1, 'b-')\n",
    "plt.plot(x,y2, 'r--')\n",
    "plt.axis([-2, 6, -2, 4])\n",
    "plt.legend(['cos', 'exp(sin)'])\n",
    "plt.xlabel(r'$x_1$'); plt.ylabel('$y_1$ and $y_2$') \n",
    "plt.savefig('my2Dplot.png', dpi=600)\n",
    "plt.savefig('my2Dplot.eps', dpi=600)\n",
    "\n"
   ]
  },
  {
   "cell_type": "markdown",
   "metadata": {
    "slideshow": {
     "slide_type": "slide"
    }
   },
   "source": [
    "Note that once we have imported we don't have to do it again.\n",
    "\n",
    "However - make sure you execute the notebook from the top down!"
   ]
  },
  {
   "cell_type": "code",
   "execution_count": 11,
   "metadata": {
    "slideshow": {
     "slide_type": "slide"
    }
   },
   "outputs": [
    {
     "name": "stderr",
     "output_type": "stream",
     "text": [
      "The PostScript backend does not support transparency; partially transparent artists will be rendered opaque.\n",
      "The PostScript backend does not support transparency; partially transparent artists will be rendered opaque.\n"
     ]
    },
    {
     "data": {
      "image/png": "[encoded data removed]",
      "text/plain": [
       "<Figure size 432x288 with 1 Axes>"
      ]
     },
     "metadata": {
      "needs_background": "light"
     },
     "output_type": "display_data"
    }
   ],
   "source": [
    "x = np.arange(-4,3,0.01)\n",
    "y1, y2 = 2**(3*np.sin(3*np.pi*x)), np.log(1.2+np.sin(3*np.pi*x))\n",
    "plt.plot(x,y1, 'b-.')\n",
    "plt.plot(x,y2, 'r:')\n",
    "plt.axis([-5, 4, -2, 10])\n",
    "plt.legend(['2^(3sin)', 'log(1.2+sin)'])\n",
    "plt.xlabel(r'$x_1$'); plt.ylabel('$y_1$ and $y_2$') \n",
    "plt.savefig('my2Dplot2.png', dpi=600)\n",
    "plt.savefig('my2Dplot2.eps', dpi=600)"
   ]
  },
  {
   "cell_type": "markdown",
   "metadata": {
    "slideshow": {
     "slide_type": "slide"
    }
   },
   "source": [
    "## Anonymity\n",
    "\n",
    "Based on \n",
    "\n",
    " - https://www.johndcook.com/blog/2018/12/07/simulating-zipcode-sex-birthdate/\n",
    " - https://techscience.org/a/2015092903/\n",
    " "
   ]
  },
  {
   "cell_type": "code",
   "execution_count": 12,
   "metadata": {
    "slideshow": {
     "slide_type": "slide"
    }
   },
   "outputs": [
    {
     "data": {
      "text/plain": [
       "(array([540.,  86.,  10.,   2.,   0.,   0.,   0.,   0.]),\n",
       " array([1, 2, 3, 4, 5, 6, 7, 8, 9]),\n",
       " <BarContainer object of 8 artists>)"
      ]
     },
     "execution_count": 12,
     "metadata": {},
     "output_type": "execute_result"
    },
    {
     "data": {
      "image/png": "[encoded data removed]",
      "text/plain": [
       "<Figure size 432x288 with 1 Axes>"
      ]
     },
     "metadata": {
      "needs_background": "light"
     },
     "output_type": "display_data"
    }
   ],
   "source": [
    "from random import randrange\n",
    "import matplotlib.pyplot as plt\n",
    "import numpy as np\n",
    "\n",
    "d = 365*3*2\n",
    "N = 750\n",
    "buckets = np.zeros(d)\n",
    "\n",
    "for _ in range(N):\n",
    "    z = randrange(d)\n",
    "    buckets[z] += 1\n",
    "\n",
    "plt.hist(buckets, range(1,10))"
   ]
  },
  {
   "cell_type": "code",
   "execution_count": 13,
   "metadata": {
    "slideshow": {
     "slide_type": "slide"
    }
   },
   "outputs": [
    {
     "name": "stdout",
     "output_type": "stream",
     "text": [
      "Probability that anonymous data occurs only once:  0.72\n",
      "Nearly exact probability that anonymous data occurs only once:  0.7100174346347615\n",
      "Probability that anonymous data occurs at most twice:  0.9493333333333334\n",
      "Probability that anonymous data occurs at most three times:  0.9893333333333333\n",
      "Probability that anonymous data occurs at most four times:  1.0\n"
     ]
    }
   ],
   "source": [
    "loners = len(buckets[buckets==1])\n",
    "print('Probability that anonymous data occurs only once: ', loners/N)\n",
    "print('Nearly exact probability that anonymous data occurs only once: ',\n",
    "       np.exp(-N/d))\n",
    "loners2 = len(buckets[buckets==2])\n",
    "print('Probability that anonymous data occurs at most twice: ',\n",
    "      (loners+2*loners2)/N)\n",
    "loners3 = len(buckets[buckets==3])\n",
    "print('Probability that anonymous data occurs at most three times: ',\n",
    "      (loners+2*loners2+3*loners3)/N)\n",
    "loners4 = len(buckets[buckets==4])\n",
    "print('Probability that anonymous data occurs at most four times: ',\n",
    "      (loners+2*loners2+3*loners3+4*loners4)/N)"
   ]
  },
  {
   "cell_type": "code",
   "execution_count": 14,
   "metadata": {
    "slideshow": {
     "slide_type": "slide"
    }
   },
   "outputs": [
    {
     "name": "stdout",
     "output_type": "stream",
     "text": [
      "750.0\n",
      "638\n",
      "540\n",
      "86\n",
      "10\n",
      "2\n",
      "0\n",
      "750\n"
     ]
    }
   ],
   "source": [
    "print( sum(buckets) )\n",
    "print( len(buckets[buckets!=0]) )\n",
    "\n",
    "print( len(buckets[buckets==1]) )\n",
    "print( len(buckets[buckets==2]) )\n",
    "print( len(buckets[buckets==3]) )\n",
    "print( len(buckets[buckets==4]) )\n",
    "print( len(buckets[buckets>4]) )\n",
    "\n",
    "\n",
    "# a check\n",
    "print( len(buckets[buckets==1])+2*len(buckets[buckets==2])\n",
    "       +3*len(buckets[buckets==3])+4*len(buckets[buckets==4]) )"
   ]
  },
  {
   "cell_type": "markdown",
   "metadata": {
    "slideshow": {
     "slide_type": "slide"
    }
   },
   "source": [
    "## Going Further\n",
    "\n",
    "if you want to see uses of python in machine learning and data science then you can look at my \n",
    "MA5634 binder page here:\n"
   ]
  },
  {
   "cell_type": "markdown",
   "metadata": {
    "slideshow": {
     "slide_type": "subslide"
    }
   },
   "source": [
    "<p><a rel=\"noopener\" href=\"https://mybinder.org/v2/gh/variationalform/FML.git/HEAD\">https://mybinder.org/v2/gh/variationalform/FML.git/HEAD</a></p>\n",
    "<p>Or just click this button:&nbsp;<a rel=\"noopener\" href=\"https://mybinder.org/badge_logo.svg\"> </a><a rel=\"noopener\" href=\"https://mybinder.org/v2/gh/variationalform/FML.git/HEAD\"> <img src=\"https://mybinder.org/badge_logo.svg\" width=\"120\"> </a></p>\n",
    "<p></p>"
   ]
  },
  {
   "cell_type": "markdown",
   "metadata": {
    "slideshow": {
     "slide_type": "subslide"
    }
   },
   "source": [
    "The raw materials are on git:\n",
    "\n",
    "- <https://variationalform.github.io>\n",
    "- <https://github.com/variationalform/FML>"
   ]
  },
  {
   "cell_type": "markdown",
   "metadata": {
    "slideshow": {
     "slide_type": "skip"
    }
   },
   "source": [
    "## Technical Notes, Production and Archiving\n",
    "\n",
    "Ignore the material below. What follows is not relevant to the material being taught."
   ]
  },
  {
   "cell_type": "markdown",
   "metadata": {
    "slideshow": {
     "slide_type": "skip"
    }
   },
   "source": [
    "#### Production Workflow\n",
    "\n",
    "- Finalise the notebook material above\n",
    "- Clear and fresh run of entire notebook\n",
    "- Create html slide show:\n",
    "  - `jupyter nbconvert --to slides python_for_maths.ipynb `\n",
    "- Set `OUTPUTTING=1` below\n",
    "- Comment out the display of web-sourced diagrams\n",
    "- Clear and fresh run of entire notebook\n",
    "- Comment back in the display of web-sourced diagrams\n",
    "- Clear all cell output\n",
    "- Set `OUTPUTTING=0` below\n",
    "- Save\n",
    "- git add, commit and push to FML\n",
    "- copy PDF, HTML etc to web site\n",
    "  - git add, commit and push\n",
    "- rebuild binder"
   ]
  },
  {
   "cell_type": "code",
   "execution_count": 15,
   "metadata": {
    "slideshow": {
     "slide_type": "skip"
    }
   },
   "outputs": [
    {
     "name": "stderr",
     "output_type": "stream",
     "text": [
      "[NbConvertApp] Converting notebook python_for_maths.ipynb to slides\n",
      "[NbConvertApp] Writing 699889 bytes to python_for_maths.slides.html\n",
      "[NbConvertApp] Converting notebook python_for_maths.ipynb to pdf\n",
      "[NbConvertApp] Support files will be in python_for_maths_files/\n",
      "[NbConvertApp] Making directory ./python_for_maths_files\n",
      "[NbConvertApp] Making directory ./python_for_maths_files\n",
      "[NbConvertApp] Making directory ./python_for_maths_files\n",
      "[NbConvertApp] Writing 52693 bytes to notebook.tex\n",
      "[NbConvertApp] Building PDF\n",
      "[NbConvertApp] Running xelatex 3 times: ['xelatex', 'notebook.tex', '-quiet']\n",
      "[NbConvertApp] Running bibtex 1 time: ['bibtex', 'notebook']\n",
      "[NbConvertApp] WARNING | bibtex had problems, most likely because there were no citations\n",
      "[NbConvertApp] PDF successfully created\n",
      "[NbConvertApp] Writing 125470 bytes to python_for_maths.pdf\n",
      "[NbConvertApp] Converting notebook python_for_maths.ipynb to script\n",
      "[NbConvertApp] Writing 9264 bytes to python_for_maths.py\n"
     ]
    }
   ],
   "source": [
    "%%bash\n",
    "NBROOTNAME=python_for_maths\n",
    "OUTPUTTING=1\n",
    "\n",
    "if [ $OUTPUTTING -eq 1 ]; then\n",
    "  #jupyter nbconvert --to html $NBROOTNAME.ipynb\n",
    "  #cp $NBROOTNAME.html ./backups/$(date +\"%m_%d_%Y-%H%M%S\")_$NBROOTNAME.html\n",
    "  #mv -f $NBROOTNAME.html ./formats/\n",
    "\n",
    "  jupyter nbconvert --to slides $NBROOTNAME.ipynb\n",
    "  cp $NBROOTNAME.slides.html ./backups/$(date +\"%m_%d_%Y-%H%M%S\")_$NBROOTNAME.slides.html\n",
    "  mv -f $NBROOTNAME.slides.html ./formats/\n",
    "\n",
    "  jupyter nbconvert --to pdf $NBROOTNAME.ipynb\n",
    "  cp $NBROOTNAME.pdf ./backups/$(date +\"%m_%d_%Y-%H%M%S\")_$NBROOTNAME.pdf\n",
    "  mv -f $NBROOTNAME.pdf ./formats/\n",
    "\n",
    "  jupyter nbconvert --to script $NBROOTNAME.ipynb\n",
    "  cp $NBROOTNAME.py ./backups/$(date +\"%m_%d_%Y-%H%M%S\")_$NBROOTNAME.py\n",
    "  mv -f $NBROOTNAME.py ./formats/\n",
    "else\n",
    "  echo 'Not Generating html, pdf and py output versions'\n",
    "fi"
   ]
  },
  {
   "cell_type": "code",
   "execution_count": null,
   "metadata": {
    "slideshow": {
     "slide_type": "skip"
    }
   },
   "outputs": [],
   "source": []
  }
 ],
 "metadata": {
  "celltoolbar": "Slideshow",
  "kernelspec": {
   "display_name": "Python 3",
   "language": "python",
   "name": "python3"
  },
  "language_info": {
   "codemirror_mode": {
    "name": "ipython",
    "version": 3
   },
   "file_extension": ".py",
   "mimetype": "text/x-python",
   "name": "python",
   "nbconvert_exporter": "python",
   "pygments_lexer": "ipython3",
   "version": "3.7.1"
  }
 },
 "nbformat": 4,
 "nbformat_minor": 4
}
